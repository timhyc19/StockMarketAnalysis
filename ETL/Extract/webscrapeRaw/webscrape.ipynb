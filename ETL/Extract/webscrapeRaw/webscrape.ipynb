{
 "cells": [
  {
   "cell_type": "markdown",
   "metadata": {},
   "source": [
    "### Webscrape Stock Data"
   ]
  },
  {
   "cell_type": "code",
   "execution_count": 17,
   "metadata": {},
   "outputs": [],
   "source": [
    "%run ../../../_config/base/base.ipynb"
   ]
  },
  {
   "cell_type": "code",
   "execution_count": 18,
   "metadata": {},
   "outputs": [],
   "source": [
    "%run ../../../_util/core/core.ipynb"
   ]
  },
  {
   "cell_type": "markdown",
   "metadata": {},
   "source": [
    "## Webscrape"
   ]
  },
  {
   "cell_type": "code",
   "execution_count": 19,
   "metadata": {},
   "outputs": [
    {
     "name": "stderr",
     "output_type": "stream",
     "text": [
      "\n",
      "\n",
      "====== WebDriver manager ======\n",
      "Current google-chrome version is 106.0.5249\n",
      "Get LATEST driver version for 106.0.5249\n",
      "Driver [C:\\Users\\joshu\\.wdm\\drivers\\chromedriver\\win32\\106.0.5249.61\\chromedriver.exe] found in cache\n",
      "C:\\Users\\joshu\\AppData\\Local\\Temp\\ipykernel_1632\\1398746496.py:1: DeprecationWarning: executable_path has been deprecated, please pass in a Service object\n",
      "  driver = webdriver.Chrome(ChromeDriverManager().install())\n"
     ]
    }
   ],
   "source": [
    "driver = webdriver.Chrome(ChromeDriverManager().install())\n",
    "headline_data = []\n",
    "\n",
    "for val in LIST_OF_TECH_STOCKS:\n",
    "    #df_extract = pd.DataFrame({'Datetime': })\n",
    "    link = newsLink(val)\n",
    "    driver.get(link)\n",
    "    content = driver.page_source\n",
    "    soup = BeautifulSoup(content)\n",
    "    headlines = soup.find_all(class_=\"mCBkyc tNxQIb y355M ynAwRc nDgy9d\")\n",
    "    for val in headlines:\n",
    "        strVal = val.get_text().strip()\n",
    "        headline_data.append(strVal)\n",
    "    break"
   ]
  },
  {
   "cell_type": "code",
   "execution_count": 20,
   "metadata": {},
   "outputs": [
    {
     "name": "stdout",
     "output_type": "stream",
     "text": [
      "['Apple reports earnings Thursday and all eyes are on iPhone 14 sales', 'Apple, Microsoft and Alphabet Grapple With Bond Investment Losses', 'Tim Cook praises Mumbai photographer’s Diwali image: “Beautifully captures \\nwhy…”', 'Apple raises prices of its services as media executives double down on \\nprice hikes', 'Apple earnings: What do the iPhone production reports really mean?', 'Apple expected to beat earnings forecasts, set tone for a big end to the \\nyear', 'US Earnings to Watch This Week: Apple, Microsoft, Boeing, Exxon, Biogen']\n"
     ]
    }
   ],
   "source": [
    "print(headline_data)"
   ]
  },
  {
   "cell_type": "markdown",
   "metadata": {},
   "source": [
    "### Move Data to Data Folder"
   ]
  },
  {
   "cell_type": "markdown",
   "metadata": {},
   "source": []
  },
  {
   "cell_type": "markdown",
   "metadata": {},
   "source": []
  },
  {
   "cell_type": "markdown",
   "metadata": {},
   "source": []
  }
 ],
 "metadata": {
  "kernelspec": {
   "display_name": "Python 3.9.1 64-bit",
   "language": "python",
   "name": "python3"
  },
  "language_info": {
   "codemirror_mode": {
    "name": "ipython",
    "version": 3
   },
   "file_extension": ".py",
   "mimetype": "text/x-python",
   "name": "python",
   "nbconvert_exporter": "python",
   "pygments_lexer": "ipython3",
   "version": "3.9.1"
  },
  "orig_nbformat": 4,
  "vscode": {
   "interpreter": {
    "hash": "01b0da322a7df2b881bf69dce4c75684d5ac75b853286a49a713693279c2c23c"
   }
  }
 },
 "nbformat": 4,
 "nbformat_minor": 2
}
