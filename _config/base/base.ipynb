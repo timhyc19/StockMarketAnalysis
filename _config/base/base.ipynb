{
 "cells": [
  {
   "cell_type": "markdown",
   "metadata": {},
   "source": [
    "# Config\n",
    "###### Configuration File for Loading Required Parameters"
   ]
  },
  {
   "cell_type": "markdown",
   "metadata": {},
   "source": [
    "### Import Necessary Libraries"
   ]
  },
  {
   "cell_type": "code",
   "execution_count": 5,
   "metadata": {},
   "outputs": [],
   "source": [
    "# Necessary Imports\n",
    "import findspark\n",
    "import logging\n",
    "import datetime\n",
    "import time\n",
    "import re\n",
    "import pandas as pd\n",
    "import pathlib\n",
    "import pyspark.sql.functions as F\n",
    "from pyspark.sql import Window, SparkSession, DataFrame, SQLContext\n",
    "from pyspark.sql.types import *\n",
    "from pyspark.sql.functions import max as max_\n",
    "from pyspark.sql.window import Window as W\n",
    "from pyspark.sql.functions import *\n",
    "from functools import reduce\n",
    "from pathlib import Path\n",
    "from itertools import chain\n",
    "import requests\n",
    "import yfinance as yf\n",
    "from datetime import datetime\n",
    "from pathlib import Path\n",
    "from selenium import webdriver\n",
    "from bs4 import BeautifulSoup\n",
    "from webdriver_manager.chrome import ChromeDriverManager\n",
    "import os"
   ]
  },
  {
   "cell_type": "markdown",
   "metadata": {},
   "source": [
    "### Global Variables"
   ]
  },
  {
   "cell_type": "code",
   "execution_count": 4,
   "metadata": {},
   "outputs": [],
   "source": [
    "LIST_OF_TECH_STOCKS = [\"AAPL\", \"MSFT\", \"GOOG\", \"AMZN\", \"TSLA\", \"META\", \"NVDA\", \"BABA\", \"CRM\", \"INTC\", \"PYPL\", \"AMD\", \"ATVI\", \"EA\", \"TTD\", \"MTCH\", \"ZG\", \"YELP\"]\n",
    "\n",
    "FIRSTDAYOFMONTH_TIME = datetime.today().replace(day=1)\n",
    "CURR_TIME = datetime.today().strftime('%Y-%m-%d')\n",
    "\n",
    "INTERVAL_ONEMIN = '1m'\n",
    "INTERVAL_ONEDAY = '1d'\n",
    "INTERVAL_FIVEDAY = '5d'\n",
    "\n",
    "MNT_STOCKDATA = '../../../Data/StockData/'\n",
    "\n",
    "LINK_LEFT = \"https://www.google.com/search?q=\"\n",
    "LINK_RIGHT = \"&hl=en&tbm=nws&sxsrf=ALiCzsZsq9l2v7eRRkwUZ5yYBzErFxlzgg:1666405062220&source=lnms&sa=X&ved=2ahUKEwj326PO4vL6AhXDD1kFHS1pA4gQ_AUoAnoECAoQBA&biw=1920&bih=969&dpr=1\"\n"
   ]
  },
  {
   "cell_type": "code",
   "execution_count": null,
   "metadata": {},
   "outputs": [],
   "source": []
  }
 ],
 "metadata": {
  "kernelspec": {
   "display_name": "Python 3.9.1 64-bit",
   "language": "python",
   "name": "python3"
  },
  "language_info": {
   "codemirror_mode": {
    "name": "ipython",
    "version": 3
   },
   "file_extension": ".py",
   "mimetype": "text/x-python",
   "name": "python",
   "nbconvert_exporter": "python",
   "pygments_lexer": "ipython3",
   "version": "3.9.1"
  },
  "orig_nbformat": 4,
  "vscode": {
   "interpreter": {
    "hash": "01b0da322a7df2b881bf69dce4c75684d5ac75b853286a49a713693279c2c23c"
   }
  }
 },
 "nbformat": 4,
 "nbformat_minor": 2
}
